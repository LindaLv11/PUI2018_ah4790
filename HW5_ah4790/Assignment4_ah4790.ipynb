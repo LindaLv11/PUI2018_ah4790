{
 "cells": [
  {
   "cell_type": "markdown",
   "metadata": {},
   "source": [
    "### Assignment 4\n",
    "\n",
    "I am setting alpha = 0.05"
   ]
  },
  {
   "cell_type": "code",
   "execution_count": 71,
   "metadata": {},
   "outputs": [
    {
     "name": "stdout",
     "output_type": "stream",
     "text": [
      "Must set env variable PUI2018\n"
     ]
    }
   ],
   "source": [
    "%matplotlib inline\n",
    "import pylab as pl\n",
    "import pandas as pd\n",
    "import numpy as np\n",
    "import os\n",
    "import matplotlib.pyplot as plt\n",
    "%matplotlib inline\n",
    "\n",
    "if os.getenv ('PUI2018') is None:\n",
    "    print (\"Must set env variable PUI2018\")\n",
    "if os.getenv ('PUIDATA') is None:\n",
    "    print (\"Must set env variable PUI2018\")\n",
    "\n",
    "import os\n",
    "import json\n"
   ]
  },
  {
   "cell_type": "code",
   "execution_count": 72,
   "metadata": {},
   "outputs": [],
   "source": [
    "jan_df = pd.read_csv('%s/JC-201801-citibike-tripdata.csv.zip'%os.getenv('PUIDATA'))\n",
    "aug_df = pd.read_csv('%s/JC-201808-citibike-tripdata.csv.zip'%os.getenv('PUIDATA'))"
   ]
  },
  {
   "cell_type": "code",
   "execution_count": 73,
   "metadata": {},
   "outputs": [
    {
     "data": {
      "text/html": [
       "<div>\n",
       "<table border=\"1\" class=\"dataframe\">\n",
       "  <thead>\n",
       "    <tr style=\"text-align: right;\">\n",
       "      <th></th>\n",
       "      <th>tripduration</th>\n",
       "      <th>starttime</th>\n",
       "      <th>stoptime</th>\n",
       "      <th>start station id</th>\n",
       "      <th>start station name</th>\n",
       "      <th>start station latitude</th>\n",
       "      <th>start station longitude</th>\n",
       "      <th>end station id</th>\n",
       "      <th>end station name</th>\n",
       "      <th>end station latitude</th>\n",
       "      <th>end station longitude</th>\n",
       "      <th>bikeid</th>\n",
       "      <th>usertype</th>\n",
       "      <th>birth year</th>\n",
       "      <th>gender</th>\n",
       "    </tr>\n",
       "  </thead>\n",
       "  <tbody>\n",
       "    <tr>\n",
       "      <th>0</th>\n",
       "      <td>932</td>\n",
       "      <td>2018-01-01 02:06:17.5410</td>\n",
       "      <td>2018-01-01 02:21:50.0270</td>\n",
       "      <td>3183</td>\n",
       "      <td>Exchange Place</td>\n",
       "      <td>40.716247</td>\n",
       "      <td>-74.033459</td>\n",
       "      <td>3199</td>\n",
       "      <td>Newport Pkwy</td>\n",
       "      <td>40.728745</td>\n",
       "      <td>-74.032108</td>\n",
       "      <td>31929</td>\n",
       "      <td>Subscriber</td>\n",
       "      <td>1992</td>\n",
       "      <td>1</td>\n",
       "    </tr>\n",
       "    <tr>\n",
       "      <th>1</th>\n",
       "      <td>550</td>\n",
       "      <td>2018-01-01 12:06:18.0390</td>\n",
       "      <td>2018-01-01 12:15:28.4430</td>\n",
       "      <td>3183</td>\n",
       "      <td>Exchange Place</td>\n",
       "      <td>40.716247</td>\n",
       "      <td>-74.033459</td>\n",
       "      <td>3199</td>\n",
       "      <td>Newport Pkwy</td>\n",
       "      <td>40.728745</td>\n",
       "      <td>-74.032108</td>\n",
       "      <td>31845</td>\n",
       "      <td>Subscriber</td>\n",
       "      <td>1969</td>\n",
       "      <td>2</td>\n",
       "    </tr>\n",
       "    <tr>\n",
       "      <th>2</th>\n",
       "      <td>510</td>\n",
       "      <td>2018-01-01 12:06:56.9780</td>\n",
       "      <td>2018-01-01 12:15:27.8100</td>\n",
       "      <td>3183</td>\n",
       "      <td>Exchange Place</td>\n",
       "      <td>40.716247</td>\n",
       "      <td>-74.033459</td>\n",
       "      <td>3199</td>\n",
       "      <td>Newport Pkwy</td>\n",
       "      <td>40.728745</td>\n",
       "      <td>-74.032108</td>\n",
       "      <td>31708</td>\n",
       "      <td>Subscriber</td>\n",
       "      <td>1946</td>\n",
       "      <td>1</td>\n",
       "    </tr>\n",
       "    <tr>\n",
       "      <th>3</th>\n",
       "      <td>354</td>\n",
       "      <td>2018-01-01 14:53:10.1860</td>\n",
       "      <td>2018-01-01 14:59:05.0960</td>\n",
       "      <td>3183</td>\n",
       "      <td>Exchange Place</td>\n",
       "      <td>40.716247</td>\n",
       "      <td>-74.033459</td>\n",
       "      <td>3267</td>\n",
       "      <td>Morris Canal</td>\n",
       "      <td>40.712419</td>\n",
       "      <td>-74.038526</td>\n",
       "      <td>31697</td>\n",
       "      <td>Subscriber</td>\n",
       "      <td>1994</td>\n",
       "      <td>1</td>\n",
       "    </tr>\n",
       "    <tr>\n",
       "      <th>4</th>\n",
       "      <td>250</td>\n",
       "      <td>2018-01-01 17:34:30.1920</td>\n",
       "      <td>2018-01-01 17:38:40.9840</td>\n",
       "      <td>3183</td>\n",
       "      <td>Exchange Place</td>\n",
       "      <td>40.716247</td>\n",
       "      <td>-74.033459</td>\n",
       "      <td>3639</td>\n",
       "      <td>Harborside</td>\n",
       "      <td>40.719252</td>\n",
       "      <td>-74.034234</td>\n",
       "      <td>31861</td>\n",
       "      <td>Subscriber</td>\n",
       "      <td>1991</td>\n",
       "      <td>1</td>\n",
       "    </tr>\n",
       "  </tbody>\n",
       "</table>\n",
       "</div>"
      ],
      "text/plain": [
       "   tripduration                 starttime                  stoptime  \\\n",
       "0           932  2018-01-01 02:06:17.5410  2018-01-01 02:21:50.0270   \n",
       "1           550  2018-01-01 12:06:18.0390  2018-01-01 12:15:28.4430   \n",
       "2           510  2018-01-01 12:06:56.9780  2018-01-01 12:15:27.8100   \n",
       "3           354  2018-01-01 14:53:10.1860  2018-01-01 14:59:05.0960   \n",
       "4           250  2018-01-01 17:34:30.1920  2018-01-01 17:38:40.9840   \n",
       "\n",
       "   start station id start station name  start station latitude  \\\n",
       "0              3183     Exchange Place               40.716247   \n",
       "1              3183     Exchange Place               40.716247   \n",
       "2              3183     Exchange Place               40.716247   \n",
       "3              3183     Exchange Place               40.716247   \n",
       "4              3183     Exchange Place               40.716247   \n",
       "\n",
       "   start station longitude  end station id end station name  \\\n",
       "0               -74.033459            3199     Newport Pkwy   \n",
       "1               -74.033459            3199     Newport Pkwy   \n",
       "2               -74.033459            3199     Newport Pkwy   \n",
       "3               -74.033459            3267     Morris Canal   \n",
       "4               -74.033459            3639       Harborside   \n",
       "\n",
       "   end station latitude  end station longitude  bikeid    usertype  \\\n",
       "0             40.728745             -74.032108   31929  Subscriber   \n",
       "1             40.728745             -74.032108   31845  Subscriber   \n",
       "2             40.728745             -74.032108   31708  Subscriber   \n",
       "3             40.712419             -74.038526   31697  Subscriber   \n",
       "4             40.719252             -74.034234   31861  Subscriber   \n",
       "\n",
       "   birth year  gender  \n",
       "0        1992       1  \n",
       "1        1969       2  \n",
       "2        1946       1  \n",
       "3        1994       1  \n",
       "4        1991       1  "
      ]
     },
     "execution_count": 73,
     "metadata": {},
     "output_type": "execute_result"
    }
   ],
   "source": [
    "df = pd.concat([jan_df, aug_df], axis=0)\n",
    "df.head()"
   ]
  },
  {
   "cell_type": "code",
   "execution_count": 74,
   "metadata": {},
   "outputs": [
    {
     "data": {
      "text/html": [
       "<div>\n",
       "<table border=\"1\" class=\"dataframe\">\n",
       "  <thead>\n",
       "    <tr style=\"text-align: right;\">\n",
       "      <th></th>\n",
       "      <th>tripduration</th>\n",
       "      <th>start station id</th>\n",
       "      <th>start station latitude</th>\n",
       "      <th>start station longitude</th>\n",
       "      <th>end station id</th>\n",
       "      <th>end station latitude</th>\n",
       "      <th>end station longitude</th>\n",
       "      <th>bikeid</th>\n",
       "      <th>birth year</th>\n",
       "      <th>gender</th>\n",
       "    </tr>\n",
       "  </thead>\n",
       "  <tbody>\n",
       "    <tr>\n",
       "      <th>count</th>\n",
       "      <td>5.710900e+04</td>\n",
       "      <td>57109.000000</td>\n",
       "      <td>57109.000000</td>\n",
       "      <td>57109.000000</td>\n",
       "      <td>57109.000000</td>\n",
       "      <td>57109.000000</td>\n",
       "      <td>57109.000000</td>\n",
       "      <td>57109.000000</td>\n",
       "      <td>57109.000000</td>\n",
       "      <td>57109.000000</td>\n",
       "    </tr>\n",
       "    <tr>\n",
       "      <th>mean</th>\n",
       "      <td>6.614016e+02</td>\n",
       "      <td>3263.899473</td>\n",
       "      <td>40.722645</td>\n",
       "      <td>-74.045769</td>\n",
       "      <td>3257.742387</td>\n",
       "      <td>40.722275</td>\n",
       "      <td>-74.045348</td>\n",
       "      <td>29723.676916</td>\n",
       "      <td>1980.501952</td>\n",
       "      <td>1.156438</td>\n",
       "    </tr>\n",
       "    <tr>\n",
       "      <th>std</th>\n",
       "      <td>1.023374e+04</td>\n",
       "      <td>137.335992</td>\n",
       "      <td>0.007169</td>\n",
       "      <td>0.010710</td>\n",
       "      <td>144.334591</td>\n",
       "      <td>0.007023</td>\n",
       "      <td>0.010767</td>\n",
       "      <td>2512.626649</td>\n",
       "      <td>10.311655</td>\n",
       "      <td>0.501877</td>\n",
       "    </tr>\n",
       "    <tr>\n",
       "      <th>min</th>\n",
       "      <td>6.100000e+01</td>\n",
       "      <td>3183.000000</td>\n",
       "      <td>40.692640</td>\n",
       "      <td>-74.096937</td>\n",
       "      <td>127.000000</td>\n",
       "      <td>40.685396</td>\n",
       "      <td>-74.096937</td>\n",
       "      <td>15114.000000</td>\n",
       "      <td>1887.000000</td>\n",
       "      <td>0.000000</td>\n",
       "    </tr>\n",
       "    <tr>\n",
       "      <th>25%</th>\n",
       "      <td>2.300000e+02</td>\n",
       "      <td>3187.000000</td>\n",
       "      <td>40.717733</td>\n",
       "      <td>-74.050389</td>\n",
       "      <td>3186.000000</td>\n",
       "      <td>40.717733</td>\n",
       "      <td>-74.049968</td>\n",
       "      <td>29207.000000</td>\n",
       "      <td>1974.000000</td>\n",
       "      <td>1.000000</td>\n",
       "    </tr>\n",
       "    <tr>\n",
       "      <th>50%</th>\n",
       "      <td>3.340000e+02</td>\n",
       "      <td>3205.000000</td>\n",
       "      <td>40.721525</td>\n",
       "      <td>-74.043117</td>\n",
       "      <td>3203.000000</td>\n",
       "      <td>40.721124</td>\n",
       "      <td>-74.043117</td>\n",
       "      <td>29550.000000</td>\n",
       "      <td>1983.000000</td>\n",
       "      <td>1.000000</td>\n",
       "    </tr>\n",
       "    <tr>\n",
       "      <th>75%</th>\n",
       "      <td>5.410000e+02</td>\n",
       "      <td>3272.000000</td>\n",
       "      <td>40.727224</td>\n",
       "      <td>-74.038051</td>\n",
       "      <td>3270.000000</td>\n",
       "      <td>40.727224</td>\n",
       "      <td>-74.037683</td>\n",
       "      <td>31760.000000</td>\n",
       "      <td>1988.000000</td>\n",
       "      <td>1.000000</td>\n",
       "    </tr>\n",
       "    <tr>\n",
       "      <th>max</th>\n",
       "      <td>2.061932e+06</td>\n",
       "      <td>3694.000000</td>\n",
       "      <td>40.748716</td>\n",
       "      <td>-74.032108</td>\n",
       "      <td>3694.000000</td>\n",
       "      <td>40.806758</td>\n",
       "      <td>-73.960708</td>\n",
       "      <td>33695.000000</td>\n",
       "      <td>2002.000000</td>\n",
       "      <td>2.000000</td>\n",
       "    </tr>\n",
       "  </tbody>\n",
       "</table>\n",
       "</div>"
      ],
      "text/plain": [
       "       tripduration  start station id  start station latitude  \\\n",
       "count  5.710900e+04      57109.000000            57109.000000   \n",
       "mean   6.614016e+02       3263.899473               40.722645   \n",
       "std    1.023374e+04        137.335992                0.007169   \n",
       "min    6.100000e+01       3183.000000               40.692640   \n",
       "25%    2.300000e+02       3187.000000               40.717733   \n",
       "50%    3.340000e+02       3205.000000               40.721525   \n",
       "75%    5.410000e+02       3272.000000               40.727224   \n",
       "max    2.061932e+06       3694.000000               40.748716   \n",
       "\n",
       "       start station longitude  end station id  end station latitude  \\\n",
       "count             57109.000000    57109.000000          57109.000000   \n",
       "mean                -74.045769     3257.742387             40.722275   \n",
       "std                   0.010710      144.334591              0.007023   \n",
       "min                 -74.096937      127.000000             40.685396   \n",
       "25%                 -74.050389     3186.000000             40.717733   \n",
       "50%                 -74.043117     3203.000000             40.721124   \n",
       "75%                 -74.038051     3270.000000             40.727224   \n",
       "max                 -74.032108     3694.000000             40.806758   \n",
       "\n",
       "       end station longitude        bikeid    birth year        gender  \n",
       "count           57109.000000  57109.000000  57109.000000  57109.000000  \n",
       "mean              -74.045348  29723.676916   1980.501952      1.156438  \n",
       "std                 0.010767   2512.626649     10.311655      0.501877  \n",
       "min               -74.096937  15114.000000   1887.000000      0.000000  \n",
       "25%               -74.049968  29207.000000   1974.000000      1.000000  \n",
       "50%               -74.043117  29550.000000   1983.000000      1.000000  \n",
       "75%               -74.037683  31760.000000   1988.000000      1.000000  \n",
       "max               -73.960708  33695.000000   2002.000000      2.000000  "
      ]
     },
     "execution_count": 74,
     "metadata": {},
     "output_type": "execute_result"
    }
   ],
   "source": [
    "df.describe()"
   ]
  },
  {
   "cell_type": "code",
   "execution_count": 75,
   "metadata": {},
   "outputs": [],
   "source": [
    "df = df.dropna()"
   ]
  },
  {
   "cell_type": "code",
   "execution_count": 76,
   "metadata": {},
   "outputs": [],
   "source": [
    "# Clean data so trips are no longer than an hour\n",
    "df = df[df['tripduration'] < 60*60]"
   ]
  },
  {
   "cell_type": "code",
   "execution_count": 77,
   "metadata": {},
   "outputs": [
    {
     "data": {
      "text/html": [
       "<div>\n",
       "<table border=\"1\" class=\"dataframe\">\n",
       "  <thead>\n",
       "    <tr style=\"text-align: right;\">\n",
       "      <th></th>\n",
       "      <th>tripduration</th>\n",
       "      <th>start station id</th>\n",
       "      <th>start station latitude</th>\n",
       "      <th>start station longitude</th>\n",
       "      <th>end station id</th>\n",
       "      <th>end station latitude</th>\n",
       "      <th>end station longitude</th>\n",
       "      <th>bikeid</th>\n",
       "      <th>birth year</th>\n",
       "      <th>gender</th>\n",
       "    </tr>\n",
       "  </thead>\n",
       "  <tbody>\n",
       "    <tr>\n",
       "      <th>count</th>\n",
       "      <td>56574.000000</td>\n",
       "      <td>56574.000000</td>\n",
       "      <td>56574.000000</td>\n",
       "      <td>56574.000000</td>\n",
       "      <td>56574.000000</td>\n",
       "      <td>56574.000000</td>\n",
       "      <td>56574.000000</td>\n",
       "      <td>56574.000000</td>\n",
       "      <td>56574.000000</td>\n",
       "      <td>56574.000000</td>\n",
       "    </tr>\n",
       "    <tr>\n",
       "      <th>mean</th>\n",
       "      <td>472.606126</td>\n",
       "      <td>3263.944922</td>\n",
       "      <td>40.722669</td>\n",
       "      <td>-74.045761</td>\n",
       "      <td>3257.660887</td>\n",
       "      <td>40.722289</td>\n",
       "      <td>-74.045334</td>\n",
       "      <td>29727.245130</td>\n",
       "      <td>1980.537367</td>\n",
       "      <td>1.160056</td>\n",
       "    </tr>\n",
       "    <tr>\n",
       "      <th>std</th>\n",
       "      <td>439.702037</td>\n",
       "      <td>137.362426</td>\n",
       "      <td>0.007156</td>\n",
       "      <td>0.010699</td>\n",
       "      <td>144.316993</td>\n",
       "      <td>0.007002</td>\n",
       "      <td>0.010748</td>\n",
       "      <td>2510.378823</td>\n",
       "      <td>10.304498</td>\n",
       "      <td>0.497172</td>\n",
       "    </tr>\n",
       "    <tr>\n",
       "      <th>min</th>\n",
       "      <td>61.000000</td>\n",
       "      <td>3183.000000</td>\n",
       "      <td>40.692640</td>\n",
       "      <td>-74.096937</td>\n",
       "      <td>127.000000</td>\n",
       "      <td>40.685396</td>\n",
       "      <td>-74.096937</td>\n",
       "      <td>15114.000000</td>\n",
       "      <td>1887.000000</td>\n",
       "      <td>0.000000</td>\n",
       "    </tr>\n",
       "    <tr>\n",
       "      <th>25%</th>\n",
       "      <td>229.000000</td>\n",
       "      <td>3187.000000</td>\n",
       "      <td>40.717733</td>\n",
       "      <td>-74.050389</td>\n",
       "      <td>3186.000000</td>\n",
       "      <td>40.717733</td>\n",
       "      <td>-74.049968</td>\n",
       "      <td>29208.000000</td>\n",
       "      <td>1974.000000</td>\n",
       "      <td>1.000000</td>\n",
       "    </tr>\n",
       "    <tr>\n",
       "      <th>50%</th>\n",
       "      <td>332.000000</td>\n",
       "      <td>3205.000000</td>\n",
       "      <td>40.721525</td>\n",
       "      <td>-74.043117</td>\n",
       "      <td>3203.000000</td>\n",
       "      <td>40.721124</td>\n",
       "      <td>-74.043117</td>\n",
       "      <td>29550.000000</td>\n",
       "      <td>1983.000000</td>\n",
       "      <td>1.000000</td>\n",
       "    </tr>\n",
       "    <tr>\n",
       "      <th>75%</th>\n",
       "      <td>532.000000</td>\n",
       "      <td>3272.000000</td>\n",
       "      <td>40.727224</td>\n",
       "      <td>-74.038051</td>\n",
       "      <td>3270.000000</td>\n",
       "      <td>40.727224</td>\n",
       "      <td>-74.037683</td>\n",
       "      <td>31760.000000</td>\n",
       "      <td>1988.000000</td>\n",
       "      <td>1.000000</td>\n",
       "    </tr>\n",
       "    <tr>\n",
       "      <th>max</th>\n",
       "      <td>3599.000000</td>\n",
       "      <td>3694.000000</td>\n",
       "      <td>40.748716</td>\n",
       "      <td>-74.032108</td>\n",
       "      <td>3694.000000</td>\n",
       "      <td>40.774667</td>\n",
       "      <td>-73.974315</td>\n",
       "      <td>33695.000000</td>\n",
       "      <td>2001.000000</td>\n",
       "      <td>2.000000</td>\n",
       "    </tr>\n",
       "  </tbody>\n",
       "</table>\n",
       "</div>"
      ],
      "text/plain": [
       "       tripduration  start station id  start station latitude  \\\n",
       "count  56574.000000      56574.000000            56574.000000   \n",
       "mean     472.606126       3263.944922               40.722669   \n",
       "std      439.702037        137.362426                0.007156   \n",
       "min       61.000000       3183.000000               40.692640   \n",
       "25%      229.000000       3187.000000               40.717733   \n",
       "50%      332.000000       3205.000000               40.721525   \n",
       "75%      532.000000       3272.000000               40.727224   \n",
       "max     3599.000000       3694.000000               40.748716   \n",
       "\n",
       "       start station longitude  end station id  end station latitude  \\\n",
       "count             56574.000000    56574.000000          56574.000000   \n",
       "mean                -74.045761     3257.660887             40.722289   \n",
       "std                   0.010699      144.316993              0.007002   \n",
       "min                 -74.096937      127.000000             40.685396   \n",
       "25%                 -74.050389     3186.000000             40.717733   \n",
       "50%                 -74.043117     3203.000000             40.721124   \n",
       "75%                 -74.038051     3270.000000             40.727224   \n",
       "max                 -74.032108     3694.000000             40.774667   \n",
       "\n",
       "       end station longitude        bikeid    birth year        gender  \n",
       "count           56574.000000  56574.000000  56574.000000  56574.000000  \n",
       "mean              -74.045334  29727.245130   1980.537367      1.160056  \n",
       "std                 0.010748   2510.378823     10.304498      0.497172  \n",
       "min               -74.096937  15114.000000   1887.000000      0.000000  \n",
       "25%               -74.049968  29208.000000   1974.000000      1.000000  \n",
       "50%               -74.043117  29550.000000   1983.000000      1.000000  \n",
       "75%               -74.037683  31760.000000   1988.000000      1.000000  \n",
       "max               -73.974315  33695.000000   2001.000000      2.000000  "
      ]
     },
     "execution_count": 77,
     "metadata": {},
     "output_type": "execute_result"
    }
   ],
   "source": [
    "df.describe()"
   ]
  },
  {
   "cell_type": "markdown",
   "metadata": {},
   "source": [
    "## Comparing Day and Night trip durations"
   ]
  },
  {
   "cell_type": "code",
   "execution_count": 78,
   "metadata": {},
   "outputs": [
    {
     "data": {
      "text/html": [
       "<div>\n",
       "<table border=\"1\" class=\"dataframe\">\n",
       "  <thead>\n",
       "    <tr style=\"text-align: right;\">\n",
       "      <th></th>\n",
       "      <th>tripduration</th>\n",
       "      <th>starttime</th>\n",
       "      <th>stoptime</th>\n",
       "      <th>start station id</th>\n",
       "      <th>start station name</th>\n",
       "      <th>start station latitude</th>\n",
       "      <th>start station longitude</th>\n",
       "      <th>end station id</th>\n",
       "      <th>end station name</th>\n",
       "      <th>end station latitude</th>\n",
       "      <th>end station longitude</th>\n",
       "      <th>bikeid</th>\n",
       "      <th>usertype</th>\n",
       "      <th>birth year</th>\n",
       "      <th>gender</th>\n",
       "    </tr>\n",
       "  </thead>\n",
       "  <tbody>\n",
       "    <tr>\n",
       "      <th>0</th>\n",
       "      <td>932</td>\n",
       "      <td>2018-01-01 02:06:17.5410</td>\n",
       "      <td>2018-01-01 02:21:50.0270</td>\n",
       "      <td>3183</td>\n",
       "      <td>Exchange Place</td>\n",
       "      <td>40.716247</td>\n",
       "      <td>-74.033459</td>\n",
       "      <td>3199</td>\n",
       "      <td>Newport Pkwy</td>\n",
       "      <td>40.728745</td>\n",
       "      <td>-74.032108</td>\n",
       "      <td>31929</td>\n",
       "      <td>Subscriber</td>\n",
       "      <td>1992</td>\n",
       "      <td>1</td>\n",
       "    </tr>\n",
       "    <tr>\n",
       "      <th>1</th>\n",
       "      <td>550</td>\n",
       "      <td>2018-01-01 12:06:18.0390</td>\n",
       "      <td>2018-01-01 12:15:28.4430</td>\n",
       "      <td>3183</td>\n",
       "      <td>Exchange Place</td>\n",
       "      <td>40.716247</td>\n",
       "      <td>-74.033459</td>\n",
       "      <td>3199</td>\n",
       "      <td>Newport Pkwy</td>\n",
       "      <td>40.728745</td>\n",
       "      <td>-74.032108</td>\n",
       "      <td>31845</td>\n",
       "      <td>Subscriber</td>\n",
       "      <td>1969</td>\n",
       "      <td>2</td>\n",
       "    </tr>\n",
       "    <tr>\n",
       "      <th>2</th>\n",
       "      <td>510</td>\n",
       "      <td>2018-01-01 12:06:56.9780</td>\n",
       "      <td>2018-01-01 12:15:27.8100</td>\n",
       "      <td>3183</td>\n",
       "      <td>Exchange Place</td>\n",
       "      <td>40.716247</td>\n",
       "      <td>-74.033459</td>\n",
       "      <td>3199</td>\n",
       "      <td>Newport Pkwy</td>\n",
       "      <td>40.728745</td>\n",
       "      <td>-74.032108</td>\n",
       "      <td>31708</td>\n",
       "      <td>Subscriber</td>\n",
       "      <td>1946</td>\n",
       "      <td>1</td>\n",
       "    </tr>\n",
       "    <tr>\n",
       "      <th>3</th>\n",
       "      <td>354</td>\n",
       "      <td>2018-01-01 14:53:10.1860</td>\n",
       "      <td>2018-01-01 14:59:05.0960</td>\n",
       "      <td>3183</td>\n",
       "      <td>Exchange Place</td>\n",
       "      <td>40.716247</td>\n",
       "      <td>-74.033459</td>\n",
       "      <td>3267</td>\n",
       "      <td>Morris Canal</td>\n",
       "      <td>40.712419</td>\n",
       "      <td>-74.038526</td>\n",
       "      <td>31697</td>\n",
       "      <td>Subscriber</td>\n",
       "      <td>1994</td>\n",
       "      <td>1</td>\n",
       "    </tr>\n",
       "    <tr>\n",
       "      <th>4</th>\n",
       "      <td>250</td>\n",
       "      <td>2018-01-01 17:34:30.1920</td>\n",
       "      <td>2018-01-01 17:38:40.9840</td>\n",
       "      <td>3183</td>\n",
       "      <td>Exchange Place</td>\n",
       "      <td>40.716247</td>\n",
       "      <td>-74.033459</td>\n",
       "      <td>3639</td>\n",
       "      <td>Harborside</td>\n",
       "      <td>40.719252</td>\n",
       "      <td>-74.034234</td>\n",
       "      <td>31861</td>\n",
       "      <td>Subscriber</td>\n",
       "      <td>1991</td>\n",
       "      <td>1</td>\n",
       "    </tr>\n",
       "  </tbody>\n",
       "</table>\n",
       "</div>"
      ],
      "text/plain": [
       "   tripduration                 starttime                  stoptime  \\\n",
       "0           932  2018-01-01 02:06:17.5410  2018-01-01 02:21:50.0270   \n",
       "1           550  2018-01-01 12:06:18.0390  2018-01-01 12:15:28.4430   \n",
       "2           510  2018-01-01 12:06:56.9780  2018-01-01 12:15:27.8100   \n",
       "3           354  2018-01-01 14:53:10.1860  2018-01-01 14:59:05.0960   \n",
       "4           250  2018-01-01 17:34:30.1920  2018-01-01 17:38:40.9840   \n",
       "\n",
       "   start station id start station name  start station latitude  \\\n",
       "0              3183     Exchange Place               40.716247   \n",
       "1              3183     Exchange Place               40.716247   \n",
       "2              3183     Exchange Place               40.716247   \n",
       "3              3183     Exchange Place               40.716247   \n",
       "4              3183     Exchange Place               40.716247   \n",
       "\n",
       "   start station longitude  end station id end station name  \\\n",
       "0               -74.033459            3199     Newport Pkwy   \n",
       "1               -74.033459            3199     Newport Pkwy   \n",
       "2               -74.033459            3199     Newport Pkwy   \n",
       "3               -74.033459            3267     Morris Canal   \n",
       "4               -74.033459            3639       Harborside   \n",
       "\n",
       "   end station latitude  end station longitude  bikeid    usertype  \\\n",
       "0             40.728745             -74.032108   31929  Subscriber   \n",
       "1             40.728745             -74.032108   31845  Subscriber   \n",
       "2             40.728745             -74.032108   31708  Subscriber   \n",
       "3             40.712419             -74.038526   31697  Subscriber   \n",
       "4             40.719252             -74.034234   31861  Subscriber   \n",
       "\n",
       "   birth year  gender  \n",
       "0        1992       1  \n",
       "1        1969       2  \n",
       "2        1946       1  \n",
       "3        1994       1  \n",
       "4        1991       1  "
      ]
     },
     "execution_count": 78,
     "metadata": {},
     "output_type": "execute_result"
    }
   ],
   "source": [
    "df.head()"
   ]
  },
  {
   "cell_type": "code",
   "execution_count": 79,
   "metadata": {},
   "outputs": [],
   "source": [
    "# I am defining a 'Day' trip as any trip that starts during the time between 6 a.m. to 6 p.m. and a 'Night' trip \n",
    "# as any trip that starts during the time between 6 p.m. and 6 a.m.\n",
    "\n",
    "# Create variable if trip is day or night \n",
    "df['dayNight'] = df['starttime'].apply(lambda x: 'Day' if ((int(x.split(' ')[1].split(':')[0]) < 18) & (int(x.split(' ')[1].split(':')[0]) >= 6)) else 'Night')"
   ]
  },
  {
   "cell_type": "code",
   "execution_count": 80,
   "metadata": {},
   "outputs": [],
   "source": [
    "df['dayTripDuration'] = np.where(df['dayNight'] == 'Day', df['tripduration'], np.NaN)\n",
    "df['nightTripDuration'] = np.where(df['dayNight'] == 'Night', df['tripduration'], np.NaN)"
   ]
  },
  {
   "cell_type": "code",
   "execution_count": 81,
   "metadata": {},
   "outputs": [],
   "source": [
    "df['dayTripDuration'].dropna(inplace=True)\n",
    "df['nightTripDuration'].dropna(inplace=True)"
   ]
  },
  {
   "cell_type": "code",
   "execution_count": 87,
   "metadata": {},
   "outputs": [],
   "source": [
    "import scipy.stats\n",
    "np.random.seed(42)"
   ]
  },
  {
   "cell_type": "markdown",
   "metadata": {},
   "source": [
    "## KS Test\n",
    "\n",
    "#### Null Hypothesis:\n",
    "The samples of trip durations for Night and Day trips are drawn from the same continuous distribution\n"
   ]
  },
  {
   "cell_type": "code",
   "execution_count": 90,
   "metadata": {},
   "outputs": [
    {
     "data": {
      "text/plain": [
       "Ks_2sampResult(statistic=0.026644370156998387, pvalue=2.3133735253554461e-08)"
      ]
     },
     "execution_count": 90,
     "metadata": {},
     "output_type": "execute_result"
    }
   ],
   "source": [
    "scipy.stats.ks_2samp(df.dayTripDuration, df.nightTripDuration)"
   ]
  },
  {
   "cell_type": "markdown",
   "metadata": {},
   "source": [
    "The p-value from this test is 2.313e-08, which is far smaller than my alpha of 0.05, so we reject the null hypothesis that the two samples are drawn from the same continuous distributions"
   ]
  },
  {
   "cell_type": "markdown",
   "metadata": {},
   "source": [
    "## KS Test (small samples)\n",
    "\n",
    "#### Null Hypothesis:\n",
    "The samples of trip durations for Night and Day trips are drawn from the same continuous distribution"
   ]
  },
  {
   "cell_type": "code",
   "execution_count": 93,
   "metadata": {},
   "outputs": [],
   "source": [
    "dayTripDuration_Small = df['dayTripDuration'].sample(random_state=42, frac=0.005)\n",
    "nightTripDuration_Small = df['nightTripDuration'].sample(random_state=42, frac=0.005)"
   ]
  },
  {
   "cell_type": "code",
   "execution_count": 94,
   "metadata": {},
   "outputs": [
    {
     "data": {
      "text/plain": [
       "Ks_2sampResult(statistic=0.10968379446640314, pvalue=0.40015718279626111)"
      ]
     },
     "execution_count": 94,
     "metadata": {},
     "output_type": "execute_result"
    }
   ],
   "source": [
    "scipy.stats.ks_2samp(dayTripDuration_Small, nightTripDuration_Small)"
   ]
  },
  {
   "cell_type": "markdown",
   "metadata": {},
   "source": [
    "The p-value from this test is 0.400, which is larger than my chosen alpha, so we fail to reject the null hypothesis that the two sample are drawn from the same continuous distributions."
   ]
  },
  {
   "cell_type": "markdown",
   "metadata": {},
   "source": [
    "## Pearson\n",
    "### Null Hypothesis:\n",
    "There is no correlation between Day Trip Duration and Night Trip Duration"
   ]
  },
  {
   "cell_type": "code",
   "execution_count": 110,
   "metadata": {},
   "outputs": [
    {
     "name": "stdout",
     "output_type": "stream",
     "text": [
      "36862\n",
      "19712\n"
     ]
    }
   ],
   "source": [
    "# Samples must be broadcast together, sorted, and normalized\n",
    "\n",
    "day = df.dayTripDuration.dropna()\n",
    "night = df.nightTripDuration.dropna()\n",
    "\n",
    "print(len(day))\n",
    "print(len(night))"
   ]
  },
  {
   "cell_type": "code",
   "execution_count": 111,
   "metadata": {},
   "outputs": [],
   "source": [
    "day_samp = np.random.choice(day, size=19000)\n",
    "night_samp = np.random.choice(night, size=19000)\n",
    "\n",
    "day_samp = np.sort(day_samp)\n",
    "night_samp = np.sort(night_samp)"
   ]
  },
  {
   "cell_type": "code",
   "execution_count": 112,
   "metadata": {},
   "outputs": [],
   "source": [
    "def normalize(num, mean, std):\n",
    "    \"\"\"normalizes a number\"\"\"\n",
    "    return (num - mean)/std"
   ]
  },
  {
   "cell_type": "code",
   "execution_count": 113,
   "metadata": {},
   "outputs": [],
   "source": [
    "normalize_vect = np.vectorize(normalize)\n",
    "\n",
    "day_samp_mean = np.mean(day_samp)\n",
    "day_samp_std = np.std(day_samp)\n",
    "\n",
    "night_samp_mean = np.mean(night_samp)\n",
    "night_samp_std = np.std(night_samp)\n",
    "\n",
    "day_samp_norm = normalize_vect(day_samp, day_samp_mean, day_samp_std)\n",
    "night_samp_norm = normalize_vect(night_samp, night_samp_mean, night_samp_std)"
   ]
  },
  {
   "cell_type": "code",
   "execution_count": 114,
   "metadata": {},
   "outputs": [
    {
     "data": {
      "text/plain": [
       "(0.99954074286313732, 0.0)"
      ]
     },
     "execution_count": 114,
     "metadata": {},
     "output_type": "execute_result"
    }
   ],
   "source": [
    "scipy.stats.pearsonr(day_samp_norm, night_samp_norm)"
   ]
  },
  {
   "cell_type": "markdown",
   "metadata": {},
   "source": [
    "The p-value is 0.0, which is smaller than the alpha of 0.05, so we reject the null hypothesis that there is no correlation between Day Trip Duration and Night Trip Duration"
   ]
  },
  {
   "cell_type": "markdown",
   "metadata": {},
   "source": [
    "## Spearman\n",
    "### Null Hypothesis: \n",
    "There is no correlation between Day Trip Duration and Night Trip Duration"
   ]
  },
  {
   "cell_type": "code",
   "execution_count": 116,
   "metadata": {},
   "outputs": [
    {
     "data": {
      "text/plain": [
       "SpearmanrResult(correlation=0.99999680313673589, pvalue=0.0)"
      ]
     },
     "execution_count": 116,
     "metadata": {},
     "output_type": "execute_result"
    }
   ],
   "source": [
    "scipy.stats.spearmanr(day_samp, night_samp)"
   ]
  },
  {
   "cell_type": "markdown",
   "metadata": {},
   "source": [
    "The p-value is 0.0, which is smaller than the alpha of 0.05, so we reject the null hypothesis that there is no correlation between Day Trip Duration and Night Trip Duration"
   ]
  }
 ],
 "metadata": {
  "kernelspec": {
   "display_name": "PUI2016_Python3",
   "language": "python",
   "name": "pui2016_python3"
  },
  "language_info": {
   "codemirror_mode": {
    "name": "ipython",
    "version": 3
   },
   "file_extension": ".py",
   "mimetype": "text/x-python",
   "name": "python",
   "nbconvert_exporter": "python",
   "pygments_lexer": "ipython3",
   "version": "3.5.4"
  }
 },
 "nbformat": 4,
 "nbformat_minor": 2
}
